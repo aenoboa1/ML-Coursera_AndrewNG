{
 "cells": [
  {
   "cell_type": "markdown",
   "metadata": {},
   "source": [
    "# Programming Exercise 2: Logistic Regression\n",
    "\n",
    "The following homework is based on WEEK 3 of the Machine Learning course done by Andrew NG and graded making use of [Python Programming Assignments](https://github.com/dibgerge/ml-coursera-python-assignments) \n"
   ]
  },
  {
   "cell_type": "markdown",
   "metadata": {},
   "source": [
    "\n",
    "## 1 Logistic Regression"
   ]
  },
  {
   "cell_type": "markdown",
   "metadata": {},
   "source": [
    "<i> Requirements: </i>\n",
    "\n",
    "- build a logistic regression model to\n",
    "predict whether a student gets admitted into a university.\n",
    "\n",
    "\n",
    "Suppose that you are the administrator of a university department and\n",
    "you want to determine each applicant’s chance of admission based on their\n",
    "<b> results on two exams </b>. You have historical data from previous applicants\n",
    "that you can use as a training set for logistic regression. For each training\n",
    "example, <b> you have the applicant’s scores on two exams and the admissions\n",
    "decision. </b>\n",
    "Your task is to build a <u> classification model </u> that estimates an applicant’s\n",
    "probability of admission based the scores from those two exams"
   ]
  },
  {
   "cell_type": "code",
   "execution_count": 114,
   "metadata": {},
   "outputs": [],
   "source": [
    "import os \n",
    "import numpy as np\n",
    "import matplotlib.pyplot as plt\n",
    "from scipy import optimize\n",
    "import pandas as pd\n",
    "import seaborn as sns\n",
    "\n",
    "\n",
    "import utils\n",
    "\n",
    "grader = utils.Grader()\n",
    "\n",
    "%matplotlib inline\n",
    "\n",
    "# Disable jedi autocompleter\n",
    "%config Completer.use_jedi = False\n"
   ]
  },
  {
   "cell_type": "code",
   "execution_count": 115,
   "metadata": {},
   "outputs": [],
   "source": [
    "data = pd.read_csv('Data/ex2data1.txt',sep=',',header=None,names=[\"first_exam\",\"second_exam\",\"Results\"])\n",
    "df = pd.DataFrame(data)\n",
    "\n",
    "X, y = df[df.columns[0:2]], df[df.columns[-1]] # Define features and target variable "
   ]
  },
  {
   "cell_type": "markdown",
   "metadata": {},
   "source": [
    "# (Ungraded) Plotting the data"
   ]
  },
  {
   "cell_type": "code",
   "execution_count": 116,
   "metadata": {},
   "outputs": [
    {
     "data": {
      "text/html": [
       "<div>\n",
       "<style scoped>\n",
       "    .dataframe tbody tr th:only-of-type {\n",
       "        vertical-align: middle;\n",
       "    }\n",
       "\n",
       "    .dataframe tbody tr th {\n",
       "        vertical-align: top;\n",
       "    }\n",
       "\n",
       "    .dataframe thead th {\n",
       "        text-align: right;\n",
       "    }\n",
       "</style>\n",
       "<table border=\"1\" class=\"dataframe\">\n",
       "  <thead>\n",
       "    <tr style=\"text-align: right;\">\n",
       "      <th></th>\n",
       "      <th>first_exam</th>\n",
       "      <th>second_exam</th>\n",
       "      <th>Results</th>\n",
       "    </tr>\n",
       "  </thead>\n",
       "  <tbody>\n",
       "    <tr>\n",
       "      <th>count</th>\n",
       "      <td>100.000000</td>\n",
       "      <td>100.000000</td>\n",
       "      <td>100.000000</td>\n",
       "    </tr>\n",
       "    <tr>\n",
       "      <th>mean</th>\n",
       "      <td>65.644274</td>\n",
       "      <td>66.221998</td>\n",
       "      <td>0.600000</td>\n",
       "    </tr>\n",
       "    <tr>\n",
       "      <th>std</th>\n",
       "      <td>19.458222</td>\n",
       "      <td>18.582783</td>\n",
       "      <td>0.492366</td>\n",
       "    </tr>\n",
       "    <tr>\n",
       "      <th>min</th>\n",
       "      <td>30.058822</td>\n",
       "      <td>30.603263</td>\n",
       "      <td>0.000000</td>\n",
       "    </tr>\n",
       "    <tr>\n",
       "      <th>25%</th>\n",
       "      <td>50.919511</td>\n",
       "      <td>48.179205</td>\n",
       "      <td>0.000000</td>\n",
       "    </tr>\n",
       "    <tr>\n",
       "      <th>50%</th>\n",
       "      <td>67.032988</td>\n",
       "      <td>67.682381</td>\n",
       "      <td>1.000000</td>\n",
       "    </tr>\n",
       "    <tr>\n",
       "      <th>75%</th>\n",
       "      <td>80.212529</td>\n",
       "      <td>79.360605</td>\n",
       "      <td>1.000000</td>\n",
       "    </tr>\n",
       "    <tr>\n",
       "      <th>max</th>\n",
       "      <td>99.827858</td>\n",
       "      <td>98.869436</td>\n",
       "      <td>1.000000</td>\n",
       "    </tr>\n",
       "  </tbody>\n",
       "</table>\n",
       "</div>"
      ],
      "text/plain": [
       "       first_exam  second_exam     Results\n",
       "count  100.000000   100.000000  100.000000\n",
       "mean    65.644274    66.221998    0.600000\n",
       "std     19.458222    18.582783    0.492366\n",
       "min     30.058822    30.603263    0.000000\n",
       "25%     50.919511    48.179205    0.000000\n",
       "50%     67.032988    67.682381    1.000000\n",
       "75%     80.212529    79.360605    1.000000\n",
       "max     99.827858    98.869436    1.000000"
      ]
     },
     "execution_count": 116,
     "metadata": {},
     "output_type": "execute_result"
    }
   ],
   "source": [
    "df.describe()"
   ]
  },
  {
   "cell_type": "code",
   "execution_count": 117,
   "metadata": {},
   "outputs": [
    {
     "data": {
      "text/plain": [
       "<AxesSubplot:xlabel='first_exam', ylabel='Count'>"
      ]
     },
     "execution_count": 117,
     "metadata": {},
     "output_type": "execute_result"
    },
    {
     "data": {
      "image/png": "[encoded data removed]",
      "text/plain": [
       "<Figure size 432x288 with 1 Axes>"
      ]
     },
     "metadata": {
      "needs_background": "light"
     },
     "output_type": "display_data"
    }
   ],
   "source": [
    "sns.histplot( df.first_exam[df.first_exam>70] ,bins=50)"
   ]
  },
  {
   "cell_type": "code",
   "execution_count": 118,
   "metadata": {},
   "outputs": [
    {
     "data": {
      "text/plain": [
       "0     34.623660\n",
       "1     30.286711\n",
       "2     35.847409\n",
       "3     60.182599\n",
       "4     79.032736\n",
       "        ...    \n",
       "95    83.489163\n",
       "96    42.261701\n",
       "97    99.315009\n",
       "98    55.340018\n",
       "99    74.775893\n",
       "Name: first_exam, Length: 100, dtype: float64"
      ]
     },
     "execution_count": 118,
     "metadata": {},
     "output_type": "execute_result"
    }
   ],
   "source": [
    "X.first_exam\n",
    "\n"
   ]
  },
  {
   "cell_type": "markdown",
   "metadata": {},
   "source": [
    "Creating a Crossplot/Scatterplot"
   ]
  },
  {
   "cell_type": "code",
   "execution_count": 119,
   "metadata": {},
   "outputs": [
    {
     "data": {
      "text/plain": [
       "Counter({0: 40, 1: 60})"
      ]
     },
     "execution_count": 119,
     "metadata": {},
     "output_type": "execute_result"
    }
   ],
   "source": [
    "import collections\n",
    "\n",
    "collections.Counter(y)"
   ]
  },
  {
   "cell_type": "code",
   "execution_count": 120,
   "metadata": {},
   "outputs": [],
   "source": [
    "#from matplotlib import colors\n",
    "def plotData(X, y):\n",
    "    plt.rcParams['figure.figsize'] = (8,8)\n",
    "\n",
    "    #cmap = colors.ListedColormap(['blue', 'red'])\n",
    "\n",
    "    plt.scatter(X.first_exam,X.second_exam,c=y, marker='x' ,vmin=0,vmax=1,cmap='rainbow') # c represents the target variable\n",
    "\n",
    "    plt.ylabel(\"Second Exam Scores\",fontsize=14)\n",
    "    plt.xlabel(\"First Exam Scores\",fontsize=14)\n",
    "\n",
    "    plt.colorbar(label='Values of target Y')\n",
    "\n",
    "    plt.show()"
   ]
  },
  {
   "cell_type": "code",
   "execution_count": 121,
   "metadata": {},
   "outputs": [
    {
     "data": {
      "image/png": "[encoded data removed]",
      "text/plain": [
       "<Figure size 576x576 with 2 Axes>"
      ]
     },
     "metadata": {
      "needs_background": "light"
     },
     "output_type": "display_data"
    }
   ],
   "source": [
    "plotData(X, y)\n"
   ]
  },
  {
   "cell_type": "markdown",
   "metadata": {},
   "source": [
    "The values of `y` represent if a student is not admitted, if he is admitted the color yields a violet color , otherwise it yields green"
   ]
  },
  {
   "cell_type": "markdown",
   "metadata": {},
   "source": [
    "<a id=\"section1\"></a>\n",
    "\n",
    "### 1.2 Implementation\n",
    "\n",
    "#### 1.2.1 Warmup exercise: sigmoid function\n",
    "\n",
    "Before you start with the actual cost function, recall that the logistic regression hypothesis is defined as:\n",
    "\n",
    "$$ h_\\theta(x) = g(\\theta^T x)$$\n",
    "\n",
    "where function $g$ is the sigmoid function. The sigmoid function is defined as: \n",
    "\n",
    "$$g(z) = \\frac{1}{1+e^{-z}}$$\n",
    "\n",
    "Your first step is to implement this function `sigmoid` so it can be\n",
    "called by the rest of your program. When you are finished, try testing a few\n",
    "values by calling `sigmoid(x)` in a new cell. For large positive values of `x`, the sigmoid should be close to 1, while for large negative values, the sigmoid should be close to 0. Evaluating `sigmoid(0)` should give you exactly 0.5. Your code should also work with vectors and matrices. **For a matrix, your function should perform the sigmoid function on every element.**\n",
    "<a id=\"sigmoid\"></a>"
   ]
  },
  {
   "cell_type": "code",
   "execution_count": 122,
   "metadata": {},
   "outputs": [],
   "source": [
    "def sigmoid(z):\n",
    "    z = np.array(z)\n",
    "    return 1 / (1+ np.exp(-z))"
   ]
  },
  {
   "cell_type": "code",
   "execution_count": 123,
   "metadata": {},
   "outputs": [
    {
     "data": {
      "text/plain": [
       "array([0.5       , 0.5       , 0.5       , 0.73105858, 0.73105858,\n",
       "       0.5       , 0.73105858, 0.73105858, 0.73105858, 0.73105858,\n",
       "       0.5       , 0.5       , 0.73105858, 0.73105858, 0.5       ,\n",
       "       0.73105858, 0.73105858, 0.5       , 0.73105858, 0.73105858,\n",
       "       0.5       , 0.73105858, 0.5       , 0.5       , 0.73105858,\n",
       "       0.73105858, 0.73105858, 0.5       , 0.5       , 0.5       ,\n",
       "       0.73105858, 0.73105858, 0.5       , 0.73105858, 0.5       ,\n",
       "       0.5       , 0.5       , 0.73105858, 0.5       , 0.5       ,\n",
       "       0.73105858, 0.5       , 0.73105858, 0.5       , 0.5       ,\n",
       "       0.5       , 0.73105858, 0.73105858, 0.73105858, 0.73105858,\n",
       "       0.73105858, 0.73105858, 0.73105858, 0.5       , 0.5       ,\n",
       "       0.5       , 0.73105858, 0.5       , 0.73105858, 0.73105858,\n",
       "       0.73105858, 0.5       , 0.5       , 0.5       , 0.5       ,\n",
       "       0.5       , 0.73105858, 0.5       , 0.73105858, 0.73105858,\n",
       "       0.5       , 0.73105858, 0.73105858, 0.73105858, 0.73105858,\n",
       "       0.73105858, 0.73105858, 0.73105858, 0.5       , 0.5       ,\n",
       "       0.73105858, 0.73105858, 0.73105858, 0.73105858, 0.73105858,\n",
       "       0.73105858, 0.5       , 0.73105858, 0.73105858, 0.5       ,\n",
       "       0.73105858, 0.73105858, 0.5       , 0.73105858, 0.73105858,\n",
       "       0.73105858, 0.73105858, 0.73105858, 0.73105858, 0.73105858])"
      ]
     },
     "execution_count": 123,
     "metadata": {},
     "output_type": "execute_result"
    }
   ],
   "source": [
    "sigmoid(y)"
   ]
  },
  {
   "cell_type": "code",
   "execution_count": 124,
   "metadata": {},
   "outputs": [
    {
     "name": "stdout",
     "output_type": "stream",
     "text": [
      "g( 0 ) =  0.5\n"
     ]
    }
   ],
   "source": [
    "z = 0\n",
    "g = sigmoid(z)\n",
    "\n",
    "print('g(', z, ') = ', g)"
   ]
  },
  {
   "cell_type": "code",
   "execution_count": 125,
   "metadata": {},
   "outputs": [
    {
     "name": "stdout",
     "output_type": "stream",
     "text": [
      "\n",
      "Submitting Solutions | Programming Exercise logistic-regression\n",
      "\n",
      "Invalid email or token. You used an invalid email or your token may have expired. Please make sure you have entered all fields correctly. Try generating a new token if the issue still persists.\n"
     ]
    }
   ],
   "source": [
    "# appends the implemented function in part 1 to the grader object\n",
    "grader[1] = sigmoid\n",
    "\n",
    "# send the added functions to coursera grader for getting a grade on this part\n",
    "grader.grade()"
   ]
  },
  {
   "cell_type": "code",
   "execution_count": 126,
   "metadata": {},
   "outputs": [],
   "source": [
    "# preparing the data for logistic regression\n",
    "m, n = X.shape\n",
    "# Setup the data matrix appropriately, and add ones for the intercept term\n",
    "\n",
    "# Add intercept term to X\n",
    "X = np.concatenate([np.ones((m, 1)), X], axis=1)\n",
    "\n",
    "n = n + 1"
   ]
  },
  {
   "cell_type": "code",
   "execution_count": 127,
   "metadata": {},
   "outputs": [],
   "source": [
    "def h_theta(X,theta):\n",
    "    return sigmoid(np.dot(X,theta))"
   ]
  },
  {
   "cell_type": "code",
   "execution_count": 128,
   "metadata": {},
   "outputs": [],
   "source": [
    "\n",
    "def costFunction(theta, X, y):\n",
    "\n",
    "    Element = -y * (np.log(h_theta(X,theta))) -  (1-y) * np.log(1-h_theta(X,theta))\n",
    "    \n",
    "    J_theta=  np.sum(Element)/m\n",
    "\n",
    "    return J_theta\n",
    "    "
   ]
  },
  {
   "cell_type": "code",
   "execution_count": 129,
   "metadata": {},
   "outputs": [
    {
     "data": {
      "text/plain": [
       "0.6931471805599453"
      ]
     },
     "execution_count": 129,
     "metadata": {},
     "output_type": "execute_result"
    }
   ],
   "source": [
    "\n",
    "theta= np.zeros(n)\n",
    "theta= theta.reshape(n,1)\n",
    "\n",
    "\n",
    "L=costFunction(theta,X,y.values.reshape(-1,1))  \n",
    "L"
   ]
  },
  {
   "cell_type": "markdown",
   "metadata": {},
   "source": [
    "Implementing: \n",
    "$$ \\frac{\\partial J(\\theta)}{\\partial \\theta_j} = \\frac{1}{m} \\sum_{i=1}^m \\left( h_\\theta \\left( x^{(i)} \\right) - y^{(i)} \\right) x_j^{(i)} $$"
   ]
  },
  {
   "cell_type": "code",
   "execution_count": 130,
   "metadata": {},
   "outputs": [],
   "source": [
    "def gradient(theta,X,y):\n",
    "        Element = (h_theta(X,theta) - y)\n",
    "        gradient = np.divide(np.dot(X.transpose(),Element),m)\n",
    "        return gradient"
   ]
  },
  {
   "cell_type": "code",
   "execution_count": 131,
   "metadata": {},
   "outputs": [
    {
     "data": {
      "text/plain": [
       "array([[-2.84944923],\n",
       "       [ 0.03070159],\n",
       "       [ 0.0227594 ]])"
      ]
     },
     "metadata": {},
     "output_type": "display_data"
    }
   ],
   "source": [
    "def GradientDescent(X,y,theta,alpha,iterations):\n",
    "    for _ in range(iterations):\n",
    "        dJ = gradient(theta,X,y)\n",
    "        theta = theta - np.multiply(alpha/m,dJ)\n",
    "    return theta\n",
    "\n",
    "theta_optimized = GradientDescent(X, y.values.reshape(-1,1), theta, alpha=0.01, iterations=500000)\n",
    "\n",
    "display(theta_optimized)"
   ]
  },
  {
   "cell_type": "code",
   "execution_count": 132,
   "metadata": {},
   "outputs": [
    {
     "data": {
      "text/plain": [
       "0.465105186367423"
      ]
     },
     "execution_count": 132,
     "metadata": {},
     "output_type": "execute_result"
    }
   ],
   "source": [
    "L= costFunction(theta_optimized,X,y.values.reshape(-1,1)\n",
    ")\n",
    "L"
   ]
  },
  {
   "cell_type": "markdown",
   "metadata": {},
   "source": [
    "# Learning parameters using fminunc"
   ]
  },
  {
   "cell_type": "markdown",
   "metadata": {},
   "source": [
    "In python `fmin_tnc` allows us to find the optimal parameter $\\theta$ for logistic regression."
   ]
  },
  {
   "cell_type": "code",
   "execution_count": 133,
   "metadata": {},
   "outputs": [
    {
     "name": "stdout",
     "output_type": "stream",
     "text": [
      "[-25.16131846   0.20623159   0.20147148]\n"
     ]
    }
   ],
   "source": [
    "import scipy.optimize as opt\n",
    "\n",
    "temp = opt.fmin_tnc(func = costFunction, \n",
    "                    x0 = theta.flatten(),fprime = gradient, \n",
    "                    args = (X, y.values.flatten()))\n",
    "#the output of above function is a tuple whose first element #contains the optimized values of theta\n",
    "theta_optimized = temp[0]\n",
    "print(theta_optimized)"
   ]
  },
  {
   "cell_type": "code",
   "execution_count": 134,
   "metadata": {},
   "outputs": [
    {
     "data": {
      "image/png": "[encoded data removed]",
      "text/plain": [
       "<Figure size 576x576 with 1 Axes>"
      ]
     },
     "metadata": {
      "needs_background": "light"
     },
     "output_type": "display_data"
    }
   ],
   "source": [
    "plot_x = [np.min(X[:,1]-2), np.max(X[:,2]+2)]\n",
    "\n",
    "\n",
    "plot_y = -1/theta_optimized[2]*(theta_optimized[0] \n",
    "          + np.dot(theta_optimized[1],plot_x))  \n",
    "\n",
    "\n",
    "mask = y.values.flatten() == 1\n",
    "\n",
    "adm = plt.scatter(X[mask][:,1], X[mask][:,2],color=\"green\")\n",
    "\n",
    "not_adm = plt.scatter(X[~mask][:,1], X[~mask][:,2],marker=\"+\",color=\"orange\")\n",
    "\n",
    "\n",
    "\n",
    "decision_boun = plt.plot(plot_x, plot_y)\n",
    "\n",
    "\n",
    "plt.xlabel('Exam 1 score')\n",
    "plt.ylabel('Exam 2 score')\n",
    "\n",
    "plt.legend((adm, not_adm), ('Admitted', 'Not admitted'))\n",
    "\n",
    "\n",
    "plt.show()\n"
   ]
  },
  {
   "cell_type": "code",
   "execution_count": 135,
   "metadata": {},
   "outputs": [
    {
     "data": {
      "text/plain": [
       "array([-25.16131846,   0.20623159,   0.20147148])"
      ]
     },
     "execution_count": 135,
     "metadata": {},
     "output_type": "execute_result"
    }
   ],
   "source": [
    "theta_optimized"
   ]
  },
  {
   "cell_type": "code",
   "execution_count": 136,
   "metadata": {},
   "outputs": [
    {
     "data": {
      "text/plain": [
       "0.20349770158947528"
      ]
     },
     "execution_count": 136,
     "metadata": {},
     "output_type": "execute_result"
    }
   ],
   "source": [
    "# Finding the new cost value\n",
    "\n",
    "J = costFunction(theta_optimized,X,y.values.flatten())\n",
    "J"
   ]
  },
  {
   "cell_type": "markdown",
   "metadata": {},
   "source": [
    "# Finding the Acuraccy of the Model"
   ]
  },
  {
   "cell_type": "markdown",
   "metadata": {},
   "source": [
    "` Using a 0.5 threeshold `"
   ]
  },
  {
   "cell_type": "code",
   "execution_count": 137,
   "metadata": {},
   "outputs": [
    {
     "data": {
      "text/plain": [
       "0.89"
      ]
     },
     "metadata": {},
     "output_type": "display_data"
    }
   ],
   "source": [
    "def find_Acurracy(X,y,theta,threshold):\n",
    "    pred = h_theta(X,theta) >= threshold\n",
    "    accuracy = np.mean(pred==y)\n",
    "    return accuracy\n",
    "\n",
    "display(find_Acurracy(X,y.values.flatten(),theta_optimized,0.5))"
   ]
  },
  {
   "cell_type": "code",
   "execution_count": 138,
   "metadata": {},
   "outputs": [],
   "source": [
    "def predict(theta, X):\n",
    "    prediction = h_theta(X,theta)\n",
    "    return prediction"
   ]
  },
  {
   "cell_type": "markdown",
   "metadata": {},
   "source": [
    "Acurracy of $ 89 \\%$ "
   ]
  },
  {
   "cell_type": "markdown",
   "metadata": {},
   "source": [
    "# Testing the model\n",
    "\n",
    "- For a student with an Exam 1 score\n",
    "of 45 and an Exam 2 score of 85, you should expect to see an admission\n",
    "probability of 0.776."
   ]
  },
  {
   "cell_type": "code",
   "execution_count": 139,
   "metadata": {},
   "outputs": [
    {
     "name": "stdout",
     "output_type": "stream",
     "text": [
      "Admission probability of the student : 0.776\n"
     ]
    }
   ],
   "source": [
    "X_test = [1,45,85] # append 1\n",
    "\n",
    "prob = predict(theta_optimized,X_test)\n",
    "\n",
    "print('Admission probability of the student : {:.3f}'.format(prob))"
   ]
  },
  {
   "cell_type": "markdown",
   "metadata": {},
   "source": [
    "For a student with an Exam 1 score of 45 and an Exam 2 score of 85, "
   ]
  },
  {
   "cell_type": "code",
   "execution_count": 140,
   "metadata": {},
   "outputs": [
    {
     "name": "stdout",
     "output_type": "stream",
     "text": [
      "\n",
      "Submitting Solutions | Programming Exercise logistic-regression\n",
      "\n",
      "Invalid email or token. You used an invalid email or your token may have expired. Please make sure you have entered all fields correctly. Try generating a new token if the issue still persists.\n"
     ]
    }
   ],
   "source": [
    "grader[4] = predict\n",
    "grader.grade()"
   ]
  },
  {
   "cell_type": "markdown",
   "metadata": {},
   "source": [
    "# 2 Regularized logistic regression"
   ]
  },
  {
   "cell_type": "markdown",
   "metadata": {},
   "source": [
    "In this part of the exercise, you will implement regularized logistic regression\n",
    "to predict whether microchips from a fabrication plant passes quality assurance (QA). During QA, each microchip goes through various tests to ensure\n",
    "it is functioning correctly."
   ]
  },
  {
   "cell_type": "markdown",
   "metadata": {},
   "source": [
    "`ex2_reg.m` will be used for this exercise"
   ]
  },
  {
   "cell_type": "markdown",
   "metadata": {},
   "source": [
    "## 2.1 Visualizing the data\n"
   ]
  },
  {
   "cell_type": "code",
   "execution_count": 141,
   "metadata": {},
   "outputs": [],
   "source": [
    "# loading the data from ex2data2.txt\n",
    "\n",
    "data = pd.read_csv('Data/ex2data2.txt',sep=',',header=None,names=[\"Microchip_Test_2\",\"Microchip_Test_1\",\"Results\"])\n",
    "df = pd.DataFrame(data)\n",
    "\n",
    "X, y = df[df.columns[0:2]], df[df.columns[-1]] # Define features and target variable"
   ]
  },
  {
   "cell_type": "code",
   "execution_count": 142,
   "metadata": {},
   "outputs": [],
   "source": [
    "#from matplotlib import colors\n",
    "def plotData(X, y):\n",
    "    plt.rcParams['figure.figsize'] = (8,8)\n",
    "\n",
    "    #cmap = colors.ListedColormap(['blue', 'red'])\n",
    "\n",
    "    mask = (y.values.flatten()==1) # mask that selects only those points that satisfy y == 1 :\n",
    "\n",
    "    #  y == 1 :\n",
    "    adm = plt.scatter(X[mask][\"Microchip_Test_2\"], X[mask][\"Microchip_Test_1\"],color=\"yellow\",edgecolors='black')\n",
    "    #  y == 0 :\n",
    "    not_adm = plt.scatter(X[~mask][\"Microchip_Test_2\"], X[~mask][\"Microchip_Test_1\"],marker=\"x\",color=\"#9A2A2A\")\n",
    "\n",
    "\n",
    "    plt.ylabel(\"Microchip_Test_2\",fontsize=14)\n",
    "    plt.xlabel(\"Microchip_Test_1\",fontsize=14)\n",
    "\n",
    "    plt.legend((adm, not_adm), ('Admitted', 'Not admitted'))\n",
    "\n",
    "\n",
    "    plt.show()\n"
   ]
  },
  {
   "cell_type": "code",
   "execution_count": 143,
   "metadata": {},
   "outputs": [
    {
     "data": {
      "image/png": "[encoded data removed]",
      "text/plain": [
       "<Figure size 576x576 with 1 Axes>"
      ]
     },
     "metadata": {
      "needs_background": "light"
     },
     "output_type": "display_data"
    }
   ],
   "source": [
    "plotData(X, y)\n"
   ]
  },
  {
   "cell_type": "markdown",
   "metadata": {},
   "source": [
    "# Feature Mapping"
   ]
  },
  {
   "cell_type": "markdown",
   "metadata": {},
   "source": [
    "We create more features from each data point , to fit the data better , in this case , we will map the features into polynomial terms of $x_1$ and $x_2$ to the sixth degree"
   ]
  },
  {
   "cell_type": "markdown",
   "metadata": {},
   "source": [
    "$$ \\text{mapFeature}(x) = \\begin{bmatrix} 1 & x_1 & x_2 & x_1^2 & x_1 x_2 & x_2^2 & x_1^3 & \\dots & x_1 x_2^5 & x_2^6 \\end{bmatrix}^T $$\n"
   ]
  },
  {
   "cell_type": "code",
   "execution_count": 144,
   "metadata": {},
   "outputs": [],
   "source": [
    "def mapFeature(X1,X2,degree):\n",
    "    out = np.ones(X.shape[0])[:,np.newaxis]\n",
    "    for i in range (1,degree+1):\n",
    "        for j in range (i+1):\n",
    "            out = np.hstack((out, np.multiply(np.power(X1, i-j),np.power(X2, j))[:,np.newaxis]))  \n",
    "            # stack arrays in sequence horizontally\n",
    "    return out"
   ]
  },
  {
   "cell_type": "code",
   "execution_count": 145,
   "metadata": {},
   "outputs": [
    {
     "name": "stderr",
     "output_type": "stream",
     "text": [
      "C:\\Users\\Det-Pc\\AppData\\Local\\Temp/ipykernel_8532/1591120241.py:5: FutureWarning: Support for multi-dimensional indexing (e.g. `obj[:, None]`) is deprecated and will be removed in a future version.  Convert to a numpy array before indexing instead.\n",
      "  out = np.hstack((out, np.multiply(np.power(X1, i-j),np.power(X2, j))[:,np.newaxis]))\n"
     ]
    }
   ],
   "source": [
    "# using  map Feature\n",
    "\n",
    "X = mapFeature(X.iloc[:, 0], X.iloc[:, 1],6)"
   ]
  },
  {
   "cell_type": "code",
   "execution_count": 146,
   "metadata": {},
   "outputs": [
    {
     "data": {
      "text/plain": [
       "(array([[ 1.00000000e+00,  5.12670000e-02,  6.99560000e-01, ...,\n",
       "          6.29470940e-04,  8.58939846e-03,  1.17205992e-01],\n",
       "        [ 1.00000000e+00, -9.27420000e-02,  6.84940000e-01, ...,\n",
       "          1.89305413e-03, -1.39810280e-02,  1.03255971e-01],\n",
       "        [ 1.00000000e+00, -2.13710000e-01,  6.92250000e-01, ...,\n",
       "          1.04882142e-02, -3.39734512e-02,  1.10046893e-01],\n",
       "        ...,\n",
       "        [ 1.00000000e+00, -4.84450000e-01,  9.99270000e-01, ...,\n",
       "          2.34007252e-01, -4.82684337e-01,  9.95627986e-01],\n",
       "        [ 1.00000000e+00, -6.33640000e-03,  9.99270000e-01, ...,\n",
       "          4.00328554e-05, -6.31330588e-03,  9.95627986e-01],\n",
       "        [ 1.00000000e+00,  6.32650000e-01, -3.06120000e-02, ...,\n",
       "          3.51474517e-07, -1.70067777e-08,  8.22905998e-10]]),\n",
       " 0      1\n",
       " 1      1\n",
       " 2      1\n",
       " 3      1\n",
       " 4      1\n",
       "       ..\n",
       " 113    0\n",
       " 114    0\n",
       " 115    0\n",
       " 116    0\n",
       " 117    0\n",
       " Name: Results, Length: 118, dtype: int64)"
      ]
     },
     "execution_count": 146,
     "metadata": {},
     "output_type": "execute_result"
    }
   ],
   "source": [
    "X,y"
   ]
  },
  {
   "cell_type": "markdown",
   "metadata": {},
   "source": [
    "Now , lets implement the cost function and gradient for regularized logistic regression. Recalling , the regularized cost function in lr is :\n",
    "\n",
    "$$ J(\\theta) = \\frac{1}{m} \\sum_{i=1}^m \\left[ -y^{(i)}\\log \\left( h_\\theta \\left(x^{(i)} \\right) \\right) - \\left( 1 - y^{(i)} \\right) \\log \\left( 1 - h_\\theta \\left( x^{(i)} \\right) \\right) \\right] + \\frac{\\lambda}{2m} \\sum_{j=1}^n \\theta_j^2 $$"
   ]
  },
  {
   "cell_type": "code",
   "execution_count": 147,
   "metadata": {},
   "outputs": [],
   "source": [
    "# getting m and n values\n",
    "\n",
    "m,n = X.shape"
   ]
  },
  {
   "cell_type": "code",
   "execution_count": 148,
   "metadata": {},
   "outputs": [
    {
     "data": {
      "text/plain": [
       "(118, 28)"
      ]
     },
     "execution_count": 148,
     "metadata": {},
     "output_type": "execute_result"
    }
   ],
   "source": [
    "X.shape # 28 dimensional vector"
   ]
  },
  {
   "cell_type": "code",
   "execution_count": 149,
   "metadata": {},
   "outputs": [],
   "source": [
    "def costFunctionReg(theta, X, y, lambda_r):\n",
    "    \n",
    "    Element =   np.matmul(-y, (np.log(h_theta(X,theta)))) -  np.matmul((1-y),np.log(1-h_theta(X,theta)))\n",
    "    \n",
    "    c_r = (Element)/m\n",
    "    \n",
    "    # for j >= 1\n",
    "    \n",
    "\n",
    "    reg_term = np.divide(lambda_r,(2*m)) * np.matmul(np.transpose(theta[1:]),theta[1:])    \n",
    "   \n",
    "    c_r = c_r + reg_term \n",
    "    \n",
    "    \n",
    "    \n",
    "    \n",
    "    return c_r\n",
    "    "
   ]
  },
  {
   "cell_type": "code",
   "execution_count": 150,
   "metadata": {},
   "outputs": [],
   "source": [
    "def lr_gradient(theta,X,y,lambda_r):\n",
    "    \n",
    "    grad = np.zeros(theta.shape)\n",
    "        \n",
    "    gradient  = (1/m) * np.matmul(np.transpose(X),( h_theta(X,theta) - y ))\n",
    "    \n",
    "    reg_term = lambda_r/m * theta[1:]\n",
    "    \n",
    "    gradient[1:] = gradient[1:] + reg_term\n",
    "    \n",
    "    return gradient"
   ]
  },
  {
   "cell_type": "code",
   "execution_count": 151,
   "metadata": {},
   "outputs": [
    {
     "name": "stdout",
     "output_type": "stream",
     "text": [
      "[[0.69314718]]\n"
     ]
    }
   ],
   "source": [
    "theta= np.zeros(n)\n",
    "theta= theta.reshape(n,1)\n",
    "lmbda = 1\n",
    "J = costFunctionReg(theta, X, y.values.flatten(), lmbda)\n",
    "print(J)"
   ]
  },
  {
   "cell_type": "code",
   "execution_count": 152,
   "metadata": {},
   "outputs": [
    {
     "name": "stdout",
     "output_type": "stream",
     "text": [
      "[ 1.27271025  0.62529964  1.18111687 -2.019874   -0.91743189 -1.43166928\n",
      "  0.12393228 -0.36553119 -0.35725406 -0.17516293 -1.45817007 -0.05098418\n",
      " -0.61558563 -0.27469165 -1.192713   -0.24217841 -0.20603308 -0.04466177\n",
      " -0.27778944 -0.29539513 -0.45645981 -1.04319152  0.02779374 -0.29244859\n",
      "  0.01555758 -0.32742401 -0.14389149 -0.92467488]\n"
     ]
    }
   ],
   "source": [
    "output = opt.fmin_tnc(func = costFunctionReg, x0 = theta.flatten(), fprime = lr_gradient, \\\n",
    "                         args = (X, y.values.flatten(), lmbda))\n",
    "theta = output[0]\n",
    "print(theta) # theta contains the optimized values"
   ]
  },
  {
   "cell_type": "code",
   "execution_count": 153,
   "metadata": {},
   "outputs": [
    {
     "data": {
      "text/plain": [
       "83.05084745762711"
      ]
     },
     "execution_count": 153,
     "metadata": {},
     "output_type": "execute_result"
    }
   ],
   "source": [
    "pred = [h_theta(X,theta) >= 0.5]\n",
    "np.mean(pred == y.values.flatten()) * 100"
   ]
  },
  {
   "cell_type": "markdown",
   "metadata": {},
   "source": [
    "83 % of accuracy in the optimal model"
   ]
  },
  {
   "cell_type": "code",
   "execution_count": 154,
   "metadata": {},
   "outputs": [
    {
     "name": "stdout",
     "output_type": "stream",
     "text": [
      "Cost at initial theta (zeros): 0.693\n",
      "Expected cost (approx)       : 0.693\n",
      "\n",
      "Gradient at initial theta (zeros) - first five values only:\n",
      "\t[-0.0000, 0.0000, -0.0000, 0.0000, -0.0000]\n",
      "Expected gradients (approx) - first five values only:\n",
      "\t[0.0085, 0.0188, 0.0001, 0.0503, 0.0115]\n",
      "\n",
      "------------------------------\n",
      "\n",
      "Cost at test theta    : 3.16\n",
      "Expected cost (approx): 3.16\n",
      "\n",
      "Gradient at test theta - first five values only:\n",
      "\t[-0.0000, 0.0477, 0.0901, -0.1541, -0.0700]\n",
      "Expected gradients (approx) - first five values only:\n",
      "\t[0.3460, 0.1614, 0.1948, 0.2269, 0.0922]\n"
     ]
    }
   ],
   "source": [
    "# Initialize fitting parameters\n",
    "initial_theta = np.zeros(X.shape[1])\n",
    "\n",
    "# Set regularization parameter lambda to 1\n",
    "# DO NOT use `lambda` as a variable name in python\n",
    "# because it is a python keyword\n",
    "lambda_r = 1\n",
    "\n",
    "# Compute and display initial cost and gradient for regularized logistic\n",
    "# regression\n",
    "cost, grad = costFunctionReg(initial_theta, X, y, lambda_r), lr_gradient(theta,X,y,lambda_r)\n",
    "\n",
    "print('Cost at initial theta (zeros): {:.3f}'.format(cost))\n",
    "print('Expected cost (approx)       : 0.693\\n')\n",
    "\n",
    "print('Gradient at initial theta (zeros) - first five values only:')\n",
    "print('\\t[{:.4f}, {:.4f}, {:.4f}, {:.4f}, {:.4f}]'.format(*grad[:5]))\n",
    "print('Expected gradients (approx) - first five values only:')\n",
    "print('\\t[0.0085, 0.0188, 0.0001, 0.0503, 0.0115]\\n')\n",
    "\n",
    "\n",
    "# Compute and display cost and gradient\n",
    "# with all-ones theta and lambda = 10\n",
    "test_theta = np.ones(X.shape[1])\n",
    "cost, grad = costFunctionReg(test_theta, X, y, 10), lr_gradient(theta,X,y,10)\n",
    "\n",
    "print('------------------------------\\n')\n",
    "print('Cost at test theta    : {:.2f}'.format(cost))\n",
    "print('Expected cost (approx): 3.16\\n')\n",
    "\n",
    "print('Gradient at test theta - first five values only:')\n",
    "print('\\t[{:.4f}, {:.4f}, {:.4f}, {:.4f}, {:.4f}]'.format(*grad[:5]))\n",
    "print('Expected gradients (approx) - first five values only:')\n",
    "print('\\t[0.3460, 0.1614, 0.1948, 0.2269, 0.0922]')"
   ]
  },
  {
   "cell_type": "code",
   "execution_count": 155,
   "metadata": {},
   "outputs": [],
   "source": [
    "\n",
    "def mapFeatureForPlotting(X1, X2): \n",
    "    degree = 6\n",
    "    out = np.ones(1)\n",
    "    for i in range(1, degree+1):\n",
    "        for j in range(i+1):\n",
    "            out = np.hstack((out, np.multiply(np.power(X1, i-j), np.power(X2, j))))\n",
    "    return out"
   ]
  },
  {
   "cell_type": "code",
   "execution_count": 156,
   "metadata": {},
   "outputs": [],
   "source": [
    " \n",
    "def PlotData(X,y,theta):\n",
    "    u = np.linspace(-1, 1.5, 50)\n",
    "    v = np.linspace(-1, 1.5, 50)\n",
    "    z = np.zeros((len(u), len(v)))\n",
    "\n",
    "    for i in range(len(u)):\n",
    "        for j in range(len(v)):\n",
    "            z[i,j] = np.dot(mapFeatureForPlotting(u[i], v[j]), theta)\n",
    "            \n",
    "    mask = y.values.flatten() == 1\n",
    "    X = data.iloc[:,:-1]\n",
    "\n",
    "\n",
    "    adm = plt.scatter(X[mask][\"Microchip_Test_2\"], X[mask][\"Microchip_Test_1\"],color=\"yellow\",edgecolors='black')\n",
    "        #  y == 0 :\n",
    "    not_adm = plt.scatter(X[~mask][\"Microchip_Test_2\"], X[~mask][\"Microchip_Test_1\"],marker=\"x\",color=\"#9A2A2A\")\n",
    "\n",
    "\n",
    "    plt.contour(u,v,z,0)\n",
    "\n",
    "    plt.xlabel('Microchip Test1')\n",
    "    plt.ylabel('Microchip Test2')\n",
    "\n",
    "    plt.legend((adm, not_adm), ('Passed', 'Failed'))\n",
    "    plt.show()"
   ]
  },
  {
   "cell_type": "markdown",
   "metadata": {},
   "source": [
    "Training data with decision boundary ($\\lambda=1$)"
   ]
  },
  {
   "cell_type": "code",
   "execution_count": 157,
   "metadata": {},
   "outputs": [
    {
     "data": {
      "image/png": "[encoded data removed]",
      "text/plain": [
       "<Figure size 576x576 with 1 Axes>"
      ]
     },
     "metadata": {
      "needs_background": "light"
     },
     "output_type": "display_data"
    }
   ],
   "source": [
    "PlotData(X,y, theta)"
   ]
  },
  {
   "cell_type": "code",
   "execution_count": 158,
   "metadata": {},
   "outputs": [],
   "source": [
    " \n",
    "def lambda_theta(theta,lmbda):\n",
    "    J = costFunctionReg(theta, X, y.values.flatten(), lmbda)\n",
    "    output = opt.fmin_tnc(func = costFunctionReg, x0 = theta.flatten(), fprime = lr_gradient, \\\n",
    "                            args = (X, y.values.flatten(), lmbda))\n",
    "    theta = output[0]\n",
    "    \n",
    "    return theta"
   ]
  },
  {
   "cell_type": "code",
   "execution_count": 163,
   "metadata": {},
   "outputs": [
    {
     "data": {
      "text/latex": [
       "For $$\\lambda=1$$ "
      ],
      "text/plain": [
       "<IPython.core.display.Latex object>"
      ]
     },
     "metadata": {},
     "output_type": "display_data"
    },
    {
     "data": {
      "image/png": "[encoded data removed]",
      "text/plain": [
       "<Figure size 576x576 with 1 Axes>"
      ]
     },
     "metadata": {
      "needs_background": "light"
     },
     "output_type": "display_data"
    },
    {
     "data": {
      "text/latex": [
       "For $$\\lambda=0 \\quad (Underfitting) $$ "
      ],
      "text/plain": [
       "<IPython.core.display.Latex object>"
      ]
     },
     "metadata": {},
     "output_type": "display_data"
    },
    {
     "data": {
      "image/png": "[encoded data removed]",
      "text/plain": [
       "<Figure size 576x576 with 1 Axes>"
      ]
     },
     "metadata": {
      "needs_background": "light"
     },
     "output_type": "display_data"
    },
    {
     "data": {
      "text/latex": [
       "For $$\\lambda=100 \\quad (Overfitting ) $$  "
      ],
      "text/plain": [
       "<IPython.core.display.Latex object>"
      ]
     },
     "metadata": {},
     "output_type": "display_data"
    },
    {
     "data": {
      "image/png": "[encoded data removed]",
      "text/plain": [
       "<Figure size 576x576 with 1 Axes>"
      ]
     },
     "metadata": {
      "needs_background": "light"
     },
     "output_type": "display_data"
    }
   ],
   "source": [
    "from IPython.display import display, Math, Latex\n",
    "\n",
    "\n",
    "\n",
    "display(Latex('For $$\\lambda=1$$ '))\n",
    "\n",
    "\n",
    "PlotData(X,y,lambda_theta(theta,lmbda=1))\n",
    "\n",
    "\n",
    "display(Latex('For $$\\lambda=0 \\quad (Underfitting) $$ '))\n",
    "\n",
    "PlotData(X,y,lambda_theta(theta,lmbda=0))\n",
    "display(Latex('For $$\\lambda=100 \\quad (Overfitting ) $$  '))\n",
    "\n",
    "\n",
    "PlotData(X,y,lambda_theta(theta,lmbda=100))\n"
   ]
  }
 ],
 "metadata": {
  "interpreter": {
   "hash": "d2d89838eef0bb31ac9bcad186e39aedbb3d743e11b5f796733b779450d1aef3"
  },
  "kernelspec": {
   "display_name": "Python 3.9.5 64-bit",
   "name": "python3"
  },
  "language_info": {
   "codemirror_mode": {
    "name": "ipython",
    "version": 3
   },
   "file_extension": ".py",
   "mimetype": "text/x-python",
   "name": "python",
   "nbconvert_exporter": "python",
   "pygments_lexer": "ipython3",
   "version": "3.9.5"
  },
  "orig_nbformat": 4
 },
 "nbformat": 4,
 "nbformat_minor": 2
}
