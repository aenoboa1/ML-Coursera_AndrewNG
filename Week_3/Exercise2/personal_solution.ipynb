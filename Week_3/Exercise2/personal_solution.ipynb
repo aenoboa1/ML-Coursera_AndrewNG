{
 "cells": [
  {
   "cell_type": "markdown",
   "metadata": {},
   "source": [
    "# Programming Exercise 2: Logistic Regression\n",
    "\n",
    "The following homework is based on WEEK 3 of the Machine Learning course done by Andrew NG and graded making use of [Python Programming Assignments](https://github.com/dibgerge/ml-coursera-python-assignments) \n"
   ]
  },
  {
   "cell_type": "markdown",
   "metadata": {},
   "source": [
    "\n",
    "## 1 Logistic Regression"
   ]
  },
  {
   "cell_type": "markdown",
   "metadata": {},
   "source": [
    "<i> Requirements: </i>\n",
    "\n",
    "- build a logistic regression model to\n",
    "predict whether a student gets admitted into a university.\n",
    "\n",
    "\n",
    "Suppose that you are the administrator of a university department and\n",
    "you want to determine each applicant’s chance of admission based on their\n",
    "<b> results on two exams </b>. You have historical data from previous applicants\n",
    "that you can use as a training set for logistic regression. For each training\n",
    "example, <b> you have the applicant’s scores on two exams and the admissions\n",
    "decision. </b>\n",
    "Your task is to build a <u> classification model </u> that estimates an applicant’s\n",
    "probability of admission based the scores from those two exams"
   ]
  },
  {
   "cell_type": "code",
   "execution_count": null,
   "metadata": {},
   "outputs": [],
   "source": [
    "import os \n",
    "import numpy as np\n",
    "improt \n",
    "\n"
   ]
  }
 ],
 "metadata": {
  "language_info": {
   "name": "python"
  },
  "orig_nbformat": 4
 },
 "nbformat": 4,
 "nbformat_minor": 2
}
